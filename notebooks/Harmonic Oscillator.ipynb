{
 "cells": [
  {
   "cell_type": "code",
   "execution_count": null,
   "id": "769ec23d-8d6f-4fb5-bca0-2aa5c9d7cd19",
   "metadata": {},
   "outputs": [],
   "source": [
    "import sys\n",
    "from pathlib import Path\n",
    "\n",
    "try:\n",
    "    sys.path.index(str(Path.cwd().parent / 'src'))\n",
    "except ValueError:\n",
    "    sys.path.insert(0, str(Path.cwd().parent / 'src'))"
   ]
  },
  {
   "cell_type": "code",
   "execution_count": null,
   "id": "6f7371b1-80cc-45a1-b632-4584f755bef3",
   "metadata": {},
   "outputs": [],
   "source": [
    "%matplotlib inline\n",
    "import matplotlib.pyplot as plt\n",
    "plt.rcParams['figure.figsize'] = [20, 10]\n",
    "from IPython.display import Audio"
   ]
  },
  {
   "cell_type": "code",
   "execution_count": null,
   "id": "46d19021-615a-4ab6-a945-2b579254410f",
   "metadata": {},
   "outputs": [],
   "source": [
    "import torch\n",
    "import torch.nn.functional as F\n",
    "import torch.nn as nn\n",
    "import numpy as np\n",
    "import librosa\n",
    "from librosa.display import specshow\n",
    "from librosa.filters import get_window\n",
    "import torchcrepe\n",
    "from einops import rearrange, parse_shape\n",
    "import opt_einsum as oe"
   ]
  },
  {
   "cell_type": "code",
   "execution_count": null,
   "id": "96601739-7386-4579-a9f0-bacd6bde74d7",
   "metadata": {},
   "outputs": [],
   "source": [
    "from models.modules.harmonic_oscillator import OscillatorBank\n",
    "from models.modules.loss import MorletTransform\n",
    "from models.modules.utils import get_frames, pad_audio"
   ]
  },
  {
   "cell_type": "code",
   "execution_count": null,
   "id": "b9c9626e",
   "metadata": {},
   "outputs": [],
   "source": [
    "wave_length = int(16000 / (110*50))\n",
    "dur = 1/(110*50)\n",
    "t = np.linspace(0, dur, wave_length)"
   ]
  },
  {
   "cell_type": "code",
   "execution_count": null,
   "id": "a6bc6e5a",
   "metadata": {},
   "outputs": [],
   "source": [
    "dur, wave_length"
   ]
  },
  {
   "cell_type": "code",
   "execution_count": null,
   "id": "ca4c24df",
   "metadata": {},
   "outputs": [],
   "source": [
    "plt.plot(np.sin(2*np.pi*110*50*t))"
   ]
  },
  {
   "cell_type": "code",
   "execution_count": null,
   "id": "35199f4e",
   "metadata": {},
   "outputs": [],
   "source": [
    "def build_sin(f, frame_size=1024, sample_rate=16000):\n",
    "    wave_length = int(sample_rate/f)\n",
    "    n_samples = wave_length + frame_size\n",
    "    dur = n_samples * (1/sample_rate)\n",
    "    t = np.linspace(0, dur, n_samples)\n",
    "    sin = np.sin(2 * np.pi * f * t)\n",
    "    return sin"
   ]
  },
  {
   "cell_type": "code",
   "execution_count": null,
   "id": "b7ab1131",
   "metadata": {},
   "outputs": [],
   "source": [
    "sin = build_sin(110*50)"
   ]
  },
  {
   "cell_type": "code",
   "execution_count": null,
   "id": "0d6a9796",
   "metadata": {},
   "outputs": [],
   "source": [
    "plt.plot(sin[100:104])"
   ]
  },
  {
   "cell_type": "code",
   "execution_count": null,
   "id": "a26183c4",
   "metadata": {},
   "outputs": [],
   "source": [
    "frame = audio[0, :1024, 0]"
   ]
  },
  {
   "cell_type": "code",
   "execution_count": null,
   "id": "1690c2b3",
   "metadata": {},
   "outputs": [],
   "source": [
    "plt.plot(frame)"
   ]
  },
  {
   "cell_type": "code",
   "execution_count": null,
   "id": "de38c1da",
   "metadata": {},
   "outputs": [],
   "source": [
    "corre = np.correlate(sin, frame, mode='valid')"
   ]
  },
  {
   "cell_type": "code",
   "execution_count": null,
   "id": "8509b509",
   "metadata": {},
   "outputs": [],
   "source": [
    "plt.plot(corre)"
   ]
  },
  {
   "cell_type": "code",
   "execution_count": null,
   "id": "ad4ed945",
   "metadata": {},
   "outputs": [],
   "source": [
    "sin.shape, frame.shape, corre.shape, sin.shape[0] - frame.shape[0]"
   ]
  },
  {
   "cell_type": "code",
   "execution_count": null,
   "id": "f893597c",
   "metadata": {},
   "outputs": [],
   "source": [
    "corre.max() / (1024/2)"
   ]
  },
  {
   "cell_type": "code",
   "execution_count": null,
   "id": "b6636b7b",
   "metadata": {},
   "outputs": [],
   "source": [
    "dist[0, 0, 0, 49]"
   ]
  },
  {
   "cell_type": "code",
   "execution_count": null,
   "id": "99361c2c",
   "metadata": {},
   "outputs": [],
   "source": [
    "shit = []\n",
    "for i in range(1, 65):\n",
    "    sin = build_sin(110.0 * i)\n",
    "    val = np.correlate(sin, frame, mode='valid').max() / 512\n",
    "    shit.append(val)"
   ]
  },
  {
   "cell_type": "code",
   "execution_count": null,
   "id": "b234dc37",
   "metadata": {},
   "outputs": [],
   "source": [
    "plt.plot(np.array(shit))"
   ]
  },
  {
   "cell_type": "code",
   "execution_count": null,
   "id": "a7bd27f2",
   "metadata": {},
   "outputs": [],
   "source": [
    "plt.plot(dist[0, 0, 0])"
   ]
  },
  {
   "cell_type": "code",
   "execution_count": null,
   "id": "8ca84c75",
   "metadata": {},
   "outputs": [],
   "source": [
    "plt.plot(dist[0, 0, 0] / np.array(shit))"
   ]
  },
  {
   "cell_type": "code",
   "execution_count": null,
   "id": "6a1d617c",
   "metadata": {},
   "outputs": [],
   "source": []
  },
  {
   "cell_type": "code",
   "execution_count": null,
   "id": "2c93a4cf-038c-4d41-b8ae-b968ae376028",
   "metadata": {},
   "outputs": [],
   "source": [
    "n_harmonics = 64\n",
    "n_noise = 64\n",
    "sample_rate = 16000\n",
    "hop_length = 64\n",
    "win_length = 1024\n",
    "f0 = 110\n",
    "dur = 250\n",
    "batch_size = 4\n",
    "ch = 2"
   ]
  },
  {
   "cell_type": "code",
   "execution_count": null,
   "id": "0882ea1c-fd15-4ff0-b76a-33e6aab18118",
   "metadata": {},
   "outputs": [],
   "source": [
    "osc = OscillatorBank(n_harmonics, sample_rate, hop_length)"
   ]
  },
  {
   "cell_type": "code",
   "execution_count": null,
   "id": "e50c64bc",
   "metadata": {},
   "outputs": [],
   "source": [
    "class MorletTransform(nn.Module):\n",
    "    def __init__(self, sample_rate, win_length, n_harmonics, half_bandwidth=1.0):\n",
    "        super().__init__()\n",
    "        self.sample_rate = sample_rate\n",
    "        self.win_length = win_length\n",
    "        n = torch.arange(win_length, dtype=torch.float32)\n",
    "        k = torch.arange(1, n_harmonics + 1, dtype=torch.float32)\n",
    "        self.register_buffer(\"n\", n)\n",
    "        self.register_buffer(\"k\", k)\n",
    "        self.tp = 1.0 / half_bandwidth\n",
    "\n",
    "    def generate_morlet_matrix(self, f0):\n",
    "        # f0.shape = [batch, time, ch]\n",
    "        tp = self.tp * self.sample_rate\n",
    "        fc = oe.contract(\"btc,k->btck\", f0, self.k, backend=\"torch\") / self.sample_rate\n",
    "        fc_n = oe.contract(\"btck,n->btckn\", fc, self.n, backend=\"torch\")\n",
    "\n",
    "        normalizer = (1 / np.sqrt(np.pi * tp)).astype(\"float32\")\n",
    "        gauss = torch.exp(-((self.n - self.win_length // 2) ** 2) / tp)\n",
    "        exp = torch.exp(-2j * np.pi * fc_n)\n",
    "        result = normalizer * gauss * exp\n",
    "\n",
    "        # Cut above nyquist\n",
    "        result[fc > 0.5] = 0.0\n",
    "\n",
    "        # result.shape = [batch, time, ch, n_harmonics, win_length]\n",
    "        return result\n",
    "\n",
    "    def forward(self, audio_frames, f0):\n",
    "        # audio_frames.shape = [batch, time, ch, win_length]\n",
    "        # f0.shape = [batch, time, ch]\n",
    "        morlet = self.generate_morlet_matrix(f0)\n",
    "        transform = oe.contract(\"btckn,btcn->btck\", morlet, audio_frames.type(torch.complex64), backend=\"torch\")\n",
    "        transform = torch.abs(transform)\n",
    "        amp = torch.sum(transform, dim=-1, keepdim=True)\n",
    "        harmonic_distribution = transform / amp\n",
    "        amp *= 2.0\n",
    "        amp = torch.clip(amp, 0.0, 1.0).squeeze(-1)\n",
    "\n",
    "        # harmonic_distribution.shape = [batch, time, ch, n_harmonics]\n",
    "        # amp.shape = [batch, time, ch]\n",
    "        return harmonic_distribution, amp"
   ]
  },
  {
   "cell_type": "code",
   "execution_count": null,
   "id": "c7143a07-00ae-4984-b4f7-e9ae6f790131",
   "metadata": {},
   "outputs": [],
   "source": [
    "morlet_transform = MorletTransform(sample_rate, win_length, n_harmonics)"
   ]
  },
  {
   "cell_type": "code",
   "execution_count": null,
   "id": "26594e3a",
   "metadata": {},
   "outputs": [],
   "source": [
    "shit = np.array(shit)"
   ]
  },
  {
   "cell_type": "code",
   "execution_count": null,
   "id": "0b61b1b8",
   "metadata": {},
   "outputs": [],
   "source": [
    "shit.shape"
   ]
  },
  {
   "cell_type": "code",
   "execution_count": null,
   "id": "4ae19227-5215-4bb0-ba33-21acc2d628b2",
   "metadata": {},
   "outputs": [],
   "source": [
    "with torch.no_grad():\n",
    "#     dist = torch.abs(torch.randn(1, 1, ch, n_harmonics))\n",
    "#     dist = torch.tile(dist, (batch_size, dur, 1, 1))\n",
    "    dist = torch.from_numpy(shit.astype('float32'))\n",
    "    dist = torch.tile(dist, (batch_size, dur, ch, 1))\n",
    "    \n",
    "    # dist = torch.zeros(1, dur, n_harmonics)\n",
    "    # dist[..., 0] = 1.0\n",
    "    \n",
    "    # dist = 61. - torch.arange(1, 61)\n",
    "    \n",
    "    # dist = torch.ones(1, dur, 60)\n",
    "    \n",
    "    dist /= dist.sum(-1, keepdim=True)\n",
    "\n",
    "    \n",
    "    \n",
    "#     freq = (torch.sin(torch.linspace(0, hop_length * dur / sample_rate, dur) * 3.14159265 * 0.5).unsqueeze(0).unsqueeze(-1) + 2) * f0 / 3\n",
    "#     freq = torch.tile(freq, (batch_size, 1, ch))\n",
    "    # freq[:, :, 1] += 3.\n",
    "    \n",
    "    # freq = torch.ones(1, dur, ch) * f0\n",
    "    freq = torch.ones(batch_size, dur, ch) * f0\n",
    "    amp = 1.0\n",
    "    amps = torch.ones(batch_size, dur, ch) * amp\n",
    "    # dist = torch.zeros(batch_size, dur, ch, n_harmonics)\n",
    "    # dist[..., 0] = 1.\n",
    "    # dist[..., 1] = 0.5\n",
    "    # dist /= dist.sum(-1, keepdim=True)\n",
    "    \n",
    "    audio = osc(\n",
    "        freq,\n",
    "        amps,\n",
    "        dist\n",
    "    )"
   ]
  },
  {
   "cell_type": "markdown",
   "id": "d949f785-af98-4f82-bca4-077bde813e3e",
   "metadata": {},
   "source": [
    "8.84 s ± 183 ms per loop (mean ± std. dev. of 7 runs, 1 loop each)"
   ]
  },
  {
   "cell_type": "code",
   "execution_count": null,
   "id": "573b0a94",
   "metadata": {},
   "outputs": [],
   "source": [
    "Audio(data=audio[0].T, rate=sample_rate, normalize=False)"
   ]
  },
  {
   "cell_type": "code",
   "execution_count": null,
   "id": "c06ee3e9-61d9-40f1-9389-d900786a8780",
   "metadata": {},
   "outputs": [],
   "source": [
    "Audio(data=audio[0].T, rate=sample_rate, normalize=False)"
   ]
  },
  {
   "cell_type": "markdown",
   "id": "0787e1b4-1767-4e71-b069-061b40f59835",
   "metadata": {},
   "source": [
    "- TODO: during synthesis (maybe also stft transform) as higher overtones go above nyquist and dissappear during an upward glissando, remaining harmonics are normalized among\n",
    "  themselves, so perceptually, the sound seems to get louder.\n",
    "- TODO: given crepe pitch, learn inharmonicity factor by maximizing real sound's total energy in this new transform\n",
    "- TODO: ampllitude doesn't seem right\n",
    "- TODO: noise component transform"
   ]
  },
  {
   "cell_type": "code",
   "execution_count": null,
   "id": "b3d6b2b6-70b0-441e-9bb0-11a9fdfbfee5",
   "metadata": {},
   "outputs": [],
   "source": [
    "padded_audio = pad_audio(audio, win_length, hop_length)"
   ]
  },
  {
   "cell_type": "code",
   "execution_count": null,
   "id": "fa041244-8806-4a77-89cb-a6854c2ed752",
   "metadata": {},
   "outputs": [],
   "source": [
    "framed_audio = get_frames(padded_audio, win_length, hop_length)"
   ]
  },
  {
   "cell_type": "code",
   "execution_count": null,
   "id": "b0accf7d-f3a1-468d-99b6-6c27847e2bea",
   "metadata": {},
   "outputs": [],
   "source": [
    "new_dist, new_amps = morlet_transform(framed_audio, freq)"
   ]
  },
  {
   "cell_type": "code",
   "execution_count": null,
   "id": "11612ba7-7678-4988-90cd-9e96d1802cbc",
   "metadata": {},
   "outputs": [],
   "source": [
    "new_amps.max(), new_dist.max(), amps.max(), dist.max()"
   ]
  },
  {
   "cell_type": "code",
   "execution_count": null,
   "id": "5f184cb2-7028-44aa-9454-84ea33b4e8c6",
   "metadata": {},
   "outputs": [],
   "source": [
    "fig, (ax1, ax2) = plt.subplots(1, 2)\n",
    "ax1.imshow(dist[0, :, 0, :].flip(1).T)\n",
    "ax2.imshow(new_dist[0, :, 0, :].flip(1).T)"
   ]
  },
  {
   "cell_type": "code",
   "execution_count": null,
   "id": "0cefeec4-5f0b-45c9-a16e-6909708543cb",
   "metadata": {},
   "outputs": [],
   "source": []
  },
  {
   "cell_type": "code",
   "execution_count": null,
   "id": "ed4e2af0-811b-4488-9724-a208a99243ce",
   "metadata": {},
   "outputs": [],
   "source": [
    "plt.plot(amps[0, :, 0])\n",
    "plt.plot(new_amps[0, :, 0])"
   ]
  },
  {
   "cell_type": "code",
   "execution_count": null,
   "id": "a857e7e8-9870-40b7-a25c-726ce60ff58c",
   "metadata": {},
   "outputs": [],
   "source": [
    "with torch.no_grad():\n",
    "    # freq = torch.ones(2, dur, 1) * f0\n",
    "    new_audio = osc(\n",
    "        freq,\n",
    "        new_amps,\n",
    "        new_dist\n",
    "    )"
   ]
  },
  {
   "cell_type": "code",
   "execution_count": null,
   "id": "9e29fca1-8843-4bc4-9143-05bb9e3147a8",
   "metadata": {},
   "outputs": [],
   "source": [
    "plt.bar(np.arange(len(new_dist[0, 128, 0])), new_dist[0, 128, 0])\n",
    "plt.bar(np.arange(len(dist[0, 128, 0])), dist[0, 128, 0])"
   ]
  },
  {
   "cell_type": "code",
   "execution_count": null,
   "id": "d3d18f57-a44b-41fc-913c-08597ecf4adf",
   "metadata": {},
   "outputs": [],
   "source": [
    "Audio(data=new_audio[0].T, rate=sample_rate, normalize=False)"
   ]
  },
  {
   "cell_type": "code",
   "execution_count": null,
   "id": "12811fcf-d183-4d0f-a8ef-4119353211f1",
   "metadata": {},
   "outputs": [],
   "source": [
    "path = '/home/kureta/Music/cello/Cello Samples/BrahmsSonata1-00002-.wav'"
   ]
  },
  {
   "cell_type": "code",
   "execution_count": null,
   "id": "5da6aea1-0faf-437b-ae2d-b188bded8d21",
   "metadata": {},
   "outputs": [],
   "source": [
    "timbre_violin = librosa.load(path, sr=16000, mono=False)[0][:, :16000].T\n",
    "violin = librosa.load(path, sr=sample_rate, mono=False)[0][:, :sample_rate].T"
   ]
  },
  {
   "cell_type": "code",
   "execution_count": null,
   "id": "4185e9b9-9f99-4ac9-a103-baeaf4dca189",
   "metadata": {},
   "outputs": [],
   "source": [
    "Audio(data=violin.T, rate=sample_rate, normalize=True)"
   ]
  },
  {
   "cell_type": "code",
   "execution_count": null,
   "id": "bf7ec461-2d2d-4336-b63e-88a323e5bf0c",
   "metadata": {},
   "outputs": [],
   "source": [
    "# add batch dimension\n",
    "padded_violin = pad_audio(torch.from_numpy(violin).unsqueeze(0), win_length, hop_length)\n",
    "padded_timbre_violin = pad_audio(torch.from_numpy(timbre_violin).unsqueeze(0), 1024, hop_length)"
   ]
  },
  {
   "cell_type": "code",
   "execution_count": null,
   "id": "273b5ba3-3b30-40c8-a8f4-5b21196f5c53",
   "metadata": {},
   "outputs": [],
   "source": [
    "b, c = padded_timbre_violin.shape[0], padded_timbre_violin.shape[2]\n",
    "\n",
    "stacked_violin = rearrange(padded_timbre_violin, 'b t c -> (b c) t')\n",
    "freqs = torchcrepe.predict(stacked_violin, 16000, hop_length, decoder=torchcrepe.decode.weighted_argmax, pad=False, device='cuda')\n",
    "freqs = rearrange(freqs, '(b c) t -> b t c', b=b, c=c)"
   ]
  },
  {
   "cell_type": "code",
   "execution_count": null,
   "id": "c04c8b57-bfb3-4cd2-9905-f54fc1d82923",
   "metadata": {},
   "outputs": [],
   "source": [
    "violin_frames = get_frames(padded_violin, win_length, hop_length)"
   ]
  },
  {
   "cell_type": "code",
   "execution_count": null,
   "id": "eb977152-f577-4693-adab-3a20d476354d",
   "metadata": {},
   "outputs": [],
   "source": [
    "morlet_transform = MorletTransform(sample_rate, win_length, n_harmonics, 1/3)"
   ]
  },
  {
   "cell_type": "code",
   "execution_count": null,
   "id": "eb2bd0b6-92b3-454f-8bce-3c7333be0204",
   "metadata": {},
   "outputs": [],
   "source": [
    "new_dist, amp = morlet_transform(violin_frames, freqs)"
   ]
  },
  {
   "cell_type": "code",
   "execution_count": null,
   "id": "0599cf01-6606-4ec8-919a-31f5e07aa810",
   "metadata": {},
   "outputs": [],
   "source": [
    "plt.imshow(new_dist[0, :100, 0].flip(1).T)"
   ]
  },
  {
   "cell_type": "code",
   "execution_count": null,
   "id": "da415195-4122-41f8-8da4-bb17ddd81859",
   "metadata": {},
   "outputs": [],
   "source": [
    "plt.plot(amp[0, :, 0])\n",
    "plt.plot(amp[0, :, 1])"
   ]
  },
  {
   "cell_type": "code",
   "execution_count": null,
   "id": "77dcedcd-58ab-430d-93ca-e5ac02e8df12",
   "metadata": {},
   "outputs": [],
   "source": [
    "with torch.no_grad():\n",
    "    new_audio = osc(\n",
    "        freqs,\n",
    "        amp,\n",
    "        new_dist\n",
    "    )"
   ]
  },
  {
   "cell_type": "code",
   "execution_count": null,
   "id": "1add3e32-22db-42dd-a6e6-046b97bac84b",
   "metadata": {},
   "outputs": [],
   "source": [
    "Audio(data=new_audio[0].T, rate=sample_rate, normalize=False)"
   ]
  },
  {
   "cell_type": "markdown",
   "id": "8c2f4809-06f5-4c8b-b2a6-b03d35c0d9eb",
   "metadata": {},
   "source": [
    "# Filtered noise\n",
    "\n",
    "- shape = [batch, time, ch, n_bands]"
   ]
  },
  {
   "cell_type": "code",
   "execution_count": null,
   "id": "bdf1a977-214e-4711-a8d9-2accc6626c6c",
   "metadata": {},
   "outputs": [],
   "source": [
    "filter_bands = torch.ones(batch_size, dur, ch, n_noise)\n",
    "filter_bands[:, :, :, 1] = 1.\n",
    "filter_bands[:, dur//2:, :, 2] = 1."
   ]
  },
  {
   "cell_type": "code",
   "execution_count": null,
   "id": "6e3bfba9-f926-4e75-9927-ba0b1bdb27b4",
   "metadata": {},
   "outputs": [],
   "source": [
    "base_noise = torch.rand(batch_size, dur*hop_length, ch) * 2 - 1\n",
    "base_noise.min(), base_noise.max()"
   ]
  },
  {
   "cell_type": "code",
   "execution_count": null,
   "id": "f82d26d8-3901-4e51-8b11-ee908cedb1e6",
   "metadata": {},
   "outputs": [],
   "source": [
    "Audio(data=base_noise[0].T, rate=sample_rate, normalize=False)"
   ]
  },
  {
   "cell_type": "markdown",
   "id": "bff4b12b-b920-48f4-851c-77d451fe83f9",
   "metadata": {},
   "source": [
    "## hop_length * 2 size windows for 50% overlap"
   ]
  },
  {
   "cell_type": "code",
   "execution_count": null,
   "id": "fe2d19f6-18a8-4aed-890d-5a99c727d4d8",
   "metadata": {},
   "outputs": [],
   "source": [
    "padded_noise = pad_audio(base_noise, win_length, hop_length)\n",
    "noise_frames = get_frames(padded_noise, win_length, hop_length)\n",
    "windowed_noise_frames = noise_frames"
   ]
  },
  {
   "cell_type": "markdown",
   "id": "9a6dba26-843f-4558-89f3-09e075bdf1fd",
   "metadata": {},
   "source": [
    "## filter"
   ]
  },
  {
   "cell_type": "code",
   "execution_count": null,
   "id": "bc44cf21-44b8-452c-be75-524b079b46dd",
   "metadata": {},
   "outputs": [],
   "source": [
    "real_filter = filter_bands.repeat_interleave(8, -1)\n",
    "real_filter = torch.concat([torch.zeros(4, 250, 2, 1), real_filter], -1)"
   ]
  },
  {
   "cell_type": "code",
   "execution_count": null,
   "id": "a1901cd3-e509-4ff3-a218-a775cb04efb6",
   "metadata": {},
   "outputs": [],
   "source": [
    "fft_noise = torch.fft.rfft(windowed_noise_frames)\n",
    "filtered_noise_fft_frames = real_filter * fft_noise\n",
    "filtered_noise_frames = torch.fft.irfft(filtered_noise_fft_frames) * torch.hann_window(win_length, periodic=False)"
   ]
  },
  {
   "cell_type": "markdown",
   "id": "34dd2135-57d4-426c-9b21-1ffed7292847",
   "metadata": {},
   "source": [
    "## overlap add"
   ]
  },
  {
   "cell_type": "code",
   "execution_count": null,
   "id": "4e00980d-96c3-4d99-ba68-152bee77bb42",
   "metadata": {},
   "outputs": [],
   "source": [
    "b, c = filtered_noise_frames.shape[0], filtered_noise_frames.shape[2]\n",
    "stacked_noise = rearrange(filtered_noise_frames, 'b t c w -> (b c) w t')\n",
    "filtered_noise = F.fold(stacked_noise, (1, padded_noise.shape[1]), (1, win_length), stride=(1, hop_length))\n",
    "filtered_noise = rearrange(filtered_noise, '(b c) 1 1 t -> b t c', b=b, c=c)\n",
    "filtered_noise = filtered_noise[:, hop_length:, :]\n",
    "filtered_noise.max(), filtered_noise.min()"
   ]
  },
  {
   "cell_type": "code",
   "execution_count": null,
   "id": "e1c20002-f551-4e5e-945c-1632b9df605c",
   "metadata": {},
   "outputs": [],
   "source": [
    "Audio(data=filtered_noise[0].T, rate=sample_rate, normalize=True)"
   ]
  },
  {
   "cell_type": "code",
   "execution_count": null,
   "id": "f9268a92-89cf-479b-9c6a-68e8088caacb",
   "metadata": {},
   "outputs": [],
   "source": [
    "torch.abs(filtered_noise_fft_frames).max()"
   ]
  },
  {
   "cell_type": "markdown",
   "id": "c3d50452-6126-4088-b8f8-7a3eccbe883d",
   "metadata": {},
   "source": [
    "# Extract noise"
   ]
  },
  {
   "cell_type": "code",
   "execution_count": null,
   "id": "31e48a73-391a-48c1-aa1a-bd6c27119c68",
   "metadata": {},
   "outputs": [],
   "source": [
    "vln = torch.from_numpy(violin).unsqueeze(0)"
   ]
  },
  {
   "cell_type": "code",
   "execution_count": null,
   "id": "d36c2cfa-a78b-4cc7-a212-e8347b80115c",
   "metadata": {},
   "outputs": [],
   "source": [
    "new_audio.shape"
   ]
  },
  {
   "cell_type": "code",
   "execution_count": null,
   "id": "812867e3-db8c-403a-a9bf-8f14505ca59f",
   "metadata": {},
   "outputs": [],
   "source": [
    "padded_new_audio = pad_audio(new_audio, win_length, hop_length)\n",
    "new_audio_frames = get_frames(padded_new_audio, win_length, hop_length)\n",
    "windowed_new_audio_frames = new_audio_frames\n",
    "fft_new_audio = torch.abs(torch.fft.rfft(windowed_new_audio_frames))"
   ]
  },
  {
   "cell_type": "code",
   "execution_count": null,
   "id": "ba46f0df-c12b-4bbd-810b-cb707bf0c902",
   "metadata": {},
   "outputs": [],
   "source": [
    "padded_vln = pad_audio(vln, win_length, hop_length)\n",
    "vln_frames = get_frames(padded_vln, win_length, hop_length)\n",
    "windowed_vln_frames = vln_frames\n",
    "fft_vln = torch.abs(torch.fft.rfft(windowed_vln_frames))"
   ]
  },
  {
   "cell_type": "code",
   "execution_count": null,
   "id": "67d23d9f-88b9-4823-ad65-a4c703ee004c",
   "metadata": {},
   "outputs": [],
   "source": [
    "librosa.display.specshow(fft_vln[0, :, 0, :].T.numpy())"
   ]
  },
  {
   "cell_type": "code",
   "execution_count": null,
   "id": "5738bb75-9e5c-4bc6-84b7-ee1111664ef6",
   "metadata": {},
   "outputs": [],
   "source": [
    "librosa.display.specshow(fft_new_audio[0, :, 0, :].T.numpy())"
   ]
  },
  {
   "cell_type": "code",
   "execution_count": null,
   "id": "f9cfc189-fc69-4735-8577-842ba02b3cb5",
   "metadata": {},
   "outputs": [],
   "source": [
    "vln_bands = rearrange(fft_vln[..., 1:], 'b t c (n g) -> b t c n g', n=64, g=8)\n",
    "vln_bands = vln_bands.sum(-1)\n",
    "\n",
    "new_bands = rearrange(fft_new_audio[..., 1:], 'b t c (n g) -> b t c n g', n=64, g=8)\n",
    "new_bands = new_bands.sum(-1)"
   ]
  },
  {
   "cell_type": "code",
   "execution_count": null,
   "id": "87597851-20e2-4321-9bd7-f0335ee2891d",
   "metadata": {},
   "outputs": [],
   "source": [
    "vln_bands.max(), new_bands.max(), (vln_bands - new_bands * 0.009947).min(), (vln_bands - new_bands*0.009947).max()"
   ]
  },
  {
   "cell_type": "code",
   "execution_count": null,
   "id": "59d34e33-0602-459a-a477-6bd6a845e01b",
   "metadata": {},
   "outputs": [],
   "source": [
    "librosa.display.specshow((vln_bands - new_bands * 0.009947)[0, :, 0, :].T.numpy())"
   ]
  },
  {
   "cell_type": "code",
   "execution_count": null,
   "id": "10dce89d-3d6a-4c2b-89ac-92dbf3951ab7",
   "metadata": {},
   "outputs": [],
   "source": [
    "filter_bands = vln_bands - new_bands * 0.009947"
   ]
  },
  {
   "cell_type": "code",
   "execution_count": null,
   "id": "f86e4b7f-c2d3-42e9-8a7c-e268e634dd83",
   "metadata": {},
   "outputs": [],
   "source": [
    "filter_bands.min(), filter_bands.max()"
   ]
  },
  {
   "cell_type": "code",
   "execution_count": null,
   "id": "f906bc67-8953-415c-8a5d-151e8cf27fe4",
   "metadata": {},
   "outputs": [],
   "source": [
    "filter_bands.shape"
   ]
  },
  {
   "cell_type": "code",
   "execution_count": null,
   "id": "28316eb3-5a3e-4eb9-a783-e1f671af3c58",
   "metadata": {},
   "outputs": [],
   "source": [
    "padded_noise = pad_audio(base_noise, win_length, hop_length)\n",
    "noise_frames = get_frames(padded_noise, win_length, hop_length)\n",
    "windowed_noise_frames = noise_frames\n",
    "\n",
    "real_filter = filter_bands.repeat_interleave(8, -1)\n",
    "real_filter = torch.concat([torch.zeros(1, 250, 2, 1), real_filter], -1)\n",
    "\n",
    "fft_noise = torch.fft.rfft(windowed_noise_frames)\n",
    "filtered_noise_fft_frames = real_filter * fft_noise\n",
    "filtered_noise_frames = torch.fft.irfft(filtered_noise_fft_frames) * torch.hann_window(win_length, periodic=False)\n",
    "\n",
    "b, c = filtered_noise_frames.shape[0], filtered_noise_frames.shape[2]\n",
    "stacked_noise = rearrange(filtered_noise_frames, 'b t c w -> (b c) w t')\n",
    "filtered_noise = F.fold(stacked_noise, (1, padded_noise.shape[1]), (1, win_length), stride=(1, hop_length))\n",
    "filtered_noise = rearrange(filtered_noise, '(b c) 1 1 t -> b t c', b=b, c=c)\n",
    "filtered_noise = filtered_noise[:, hop_length:, :]\n",
    "filtered_noise.max(), filtered_noise.min()"
   ]
  },
  {
   "cell_type": "code",
   "execution_count": null,
   "id": "d6742f01-9ca6-45d1-828e-47a8db0a2059",
   "metadata": {},
   "outputs": [],
   "source": [
    "Audio(data=filtered_noise[0, 512:-384].T / 4096 + new_audio[0].T, rate=sample_rate, normalize=True)"
   ]
  },
  {
   "cell_type": "code",
   "execution_count": null,
   "id": "0d03bcf7-3faa-4be0-a843-d7dd782fcce1",
   "metadata": {},
   "outputs": [],
   "source": [
    "filter_bands.shape"
   ]
  },
  {
   "cell_type": "code",
   "execution_count": null,
   "id": "3a58842d-f067-45ec-8b01-64d9c3d81387",
   "metadata": {},
   "outputs": [],
   "source": []
  }
 ],
 "metadata": {
  "kernelspec": {
   "display_name": "Python 3 (ipykernel)",
   "language": "python",
   "name": "python3"
  },
  "language_info": {
   "codemirror_mode": {
    "name": "ipython",
    "version": 3
   },
   "file_extension": ".py",
   "mimetype": "text/x-python",
   "name": "python",
   "nbconvert_exporter": "python",
   "pygments_lexer": "ipython3",
   "version": "3.9.10"
  }
 },
 "nbformat": 4,
 "nbformat_minor": 5
}
