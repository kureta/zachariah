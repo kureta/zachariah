{
 "cells": [
  {
   "cell_type": "code",
   "execution_count": null,
   "id": "769ec23d-8d6f-4fb5-bca0-2aa5c9d7cd19",
   "metadata": {},
   "outputs": [],
   "source": [
    "import sys\n",
    "from pathlib import Path\n",
    "\n",
    "try:\n",
    "    sys.path.index(str(Path.cwd().parent / 'src'))\n",
    "except ValueError:\n",
    "    sys.path.insert(0, str(Path.cwd().parent / 'src'))"
   ]
  },
  {
   "cell_type": "code",
   "execution_count": null,
   "id": "6f7371b1-80cc-45a1-b632-4584f755bef3",
   "metadata": {},
   "outputs": [],
   "source": [
    "%matplotlib inline\n",
    "import matplotlib.pyplot as plt\n",
    "plt.rcParams['figure.figsize'] = [20, 10]\n",
    "from IPython.display import Audio"
   ]
  },
  {
   "cell_type": "code",
   "execution_count": null,
   "id": "46d19021-615a-4ab6-a945-2b579254410f",
   "metadata": {},
   "outputs": [],
   "source": [
    "import torch\n",
    "import torch.nn.functional as F\n",
    "import numpy as np\n",
    "import librosa\n",
    "from librosa.display import specshow"
   ]
  },
  {
   "cell_type": "code",
   "execution_count": null,
   "id": "96601739-7386-4579-a9f0-bacd6bde74d7",
   "metadata": {},
   "outputs": [],
   "source": [
    "from models.modules.harmonic_oscillator import OscillatorBank"
   ]
  },
  {
   "cell_type": "code",
   "execution_count": null,
   "id": "2c93a4cf-038c-4d41-b8ae-b968ae376028",
   "metadata": {},
   "outputs": [],
   "source": [
    "n_harmonics = 60\n",
    "sample_rate = 16000\n",
    "win_length = 2048\n",
    "hop_length = 256\n",
    "f0 = 1024"
   ]
  },
  {
   "cell_type": "code",
   "execution_count": null,
   "id": "0882ea1c-fd15-4ff0-b76a-33e6aab18118",
   "metadata": {},
   "outputs": [],
   "source": [
    "shit = OscillatorBank(n_harmonics, sample_rate, hop_length)"
   ]
  },
  {
   "cell_type": "code",
   "execution_count": null,
   "id": "4ae19227-5215-4bb0-ba33-21acc2d628b2",
   "metadata": {},
   "outputs": [],
   "source": [
    "with torch.no_grad():\n",
    "    audio = shit.forward(\n",
    "        torch.ones(1, 1000, 1) * f0,\n",
    "        torch.ones(1, 1000, 1) * -24.0,\n",
    "        torch.ones(1, 1000, n_harmonics) / (torch.arange(1, n_harmonics + 1))\n",
    "    )"
   ]
  },
  {
   "cell_type": "code",
   "execution_count": null,
   "id": "c06ee3e9-61d9-40f1-9389-d900786a8780",
   "metadata": {},
   "outputs": [],
   "source": [
    "Audio(data=audio, rate=sample_rate)"
   ]
  },
  {
   "cell_type": "code",
   "execution_count": null,
   "id": "e27565a1-4c15-4176-904c-18b3761f8c53",
   "metadata": {},
   "outputs": [],
   "source": [
    "stft = np.abs(librosa.stft(audio[0].numpy(), win_length, hop_length))"
   ]
  },
  {
   "cell_type": "code",
   "execution_count": null,
   "id": "d7fa8590-cd9d-41e4-ad00-8d891438b7c6",
   "metadata": {},
   "outputs": [],
   "source": [
    "specshow(librosa.amplitude_to_db(stft), sr=sample_rate, hop_length=hop_length)\n",
    "plt.show()"
   ]
  },
  {
   "cell_type": "markdown",
   "id": "0787e1b4-1767-4e71-b069-061b40f59835",
   "metadata": {},
   "source": [
    "- frequency is in samples per second\n",
    "- nyquist of win_length divided by nyquist of sample_rate is the frequency conversion factor\n",
    "- f0 * this_factor is the frequency term in fbsp kernel"
   ]
  },
  {
   "cell_type": "code",
   "execution_count": null,
   "id": "b1c5b84c-019f-4d62-8f58-4ada23ef0cdb",
   "metadata": {},
   "outputs": [],
   "source": [
    "def dft_kernel(n, k):\n",
    "    return torch.exp(torch.tensor(-2j * np.pi * (k / win_length) * n, dtype=torch.complex64))"
   ]
  },
  {
   "cell_type": "code",
   "execution_count": null,
   "id": "a0ac820f-033f-4154-b36b-d7fe3495b9e2",
   "metadata": {},
   "outputs": [],
   "source": [
    "def fbsp_kernel(n, k, f0=f0*1024/8000):\n",
    "    return torch.exp(torch.tensor(-2j * np.pi * (f0 * k / win_length) * n, dtype=torch.complex64))"
   ]
  },
  {
   "cell_type": "code",
   "execution_count": null,
   "id": "8f5b589b-1742-421d-8b30-380f6d16c487",
   "metadata": {},
   "outputs": [],
   "source": [
    "kernel = np.fromfunction(dft_kernel, (2048, 2048))"
   ]
  },
  {
   "cell_type": "code",
   "execution_count": null,
   "id": "c5f6cc69-1709-48c3-b101-5d2d1d784dc3",
   "metadata": {},
   "outputs": [],
   "source": [
    "fkernel = np.fromfunction(fbsp_kernel, (2048, 8))"
   ]
  },
  {
   "cell_type": "code",
   "execution_count": null,
   "id": "383427bb-fa9b-4ec0-8675-43e475098fcb",
   "metadata": {},
   "outputs": [],
   "source": [
    "tr = (0j + audio[:, 2048:4096]) @ fkernel"
   ]
  },
  {
   "cell_type": "code",
   "execution_count": null,
   "id": "1531de4f-38ce-49d3-9f1c-7e96e7ef63e3",
   "metadata": {},
   "outputs": [],
   "source": [
    "plt.bar(np.arange(8), torch.abs(tr[0]) / 2)"
   ]
  },
  {
   "cell_type": "code",
   "execution_count": null,
   "id": "4e37532a-467b-4aaa-862b-6c3bcd89606f",
   "metadata": {},
   "outputs": [],
   "source": [
    "plt.plot(stft[:, 128])"
   ]
  },
  {
   "cell_type": "code",
   "execution_count": null,
   "id": "899719c2-ec87-4c68-9bae-6272fc9f2c6f",
   "metadata": {},
   "outputs": [],
   "source": [
    "ck = kernel.unsqueeze(1)"
   ]
  },
  {
   "cell_type": "code",
   "execution_count": null,
   "id": "e9cc9439-ce81-4e4c-8f38-2cc180843674",
   "metadata": {},
   "outputs": [],
   "source": [
    "res = F.conv1d(audio.unsqueeze(0), ck, stride=hop_length)"
   ]
  },
  {
   "cell_type": "code",
   "execution_count": null,
   "id": "98d10e5e-ac4f-4a6c-8a44-a7d5e6884803",
   "metadata": {},
   "outputs": [],
   "source": [
    "audio.shape"
   ]
  },
  {
   "cell_type": "code",
   "execution_count": null,
   "id": "85113796-042c-4e1d-baec-930b31c96b36",
   "metadata": {},
   "outputs": [],
   "source": [
    "stft.shape"
   ]
  },
  {
   "cell_type": "code",
   "execution_count": null,
   "id": "210409c8-f6d9-46e3-b796-20fd6af22389",
   "metadata": {},
   "outputs": [],
   "source": []
  }
 ],
 "metadata": {
  "kernelspec": {
   "display_name": "Python 3 (ipykernel)",
   "language": "python",
   "name": "python3"
  },
  "language_info": {
   "codemirror_mode": {
    "name": "ipython",
    "version": 3
   },
   "file_extension": ".py",
   "mimetype": "text/x-python",
   "name": "python",
   "nbconvert_exporter": "python",
   "pygments_lexer": "ipython3",
   "version": "3.9.7"
  }
 },
 "nbformat": 4,
 "nbformat_minor": 5
}
