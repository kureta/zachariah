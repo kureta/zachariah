{
 "cells": [
  {
   "cell_type": "code",
   "execution_count": null,
   "id": "769ec23d-8d6f-4fb5-bca0-2aa5c9d7cd19",
   "metadata": {},
   "outputs": [],
   "source": [
    "import sys\n",
    "from pathlib import Path\n",
    "\n",
    "try:\n",
    "    sys.path.index(str(Path.cwd().parent / 'src'))\n",
    "except ValueError:\n",
    "    sys.path.insert(0, str(Path.cwd().parent / 'src'))"
   ]
  },
  {
   "cell_type": "code",
   "execution_count": null,
   "id": "6f7371b1-80cc-45a1-b632-4584f755bef3",
   "metadata": {},
   "outputs": [],
   "source": [
    "from IPython.display import Audio"
   ]
  },
  {
   "cell_type": "code",
   "execution_count": null,
   "id": "46d19021-615a-4ab6-a945-2b579254410f",
   "metadata": {},
   "outputs": [],
   "source": [
    "import torch"
   ]
  },
  {
   "cell_type": "code",
   "execution_count": null,
   "id": "96601739-7386-4579-a9f0-bacd6bde74d7",
   "metadata": {},
   "outputs": [],
   "source": [
    "from models.modules.harmonic_oscillator import OscillatorBank"
   ]
  },
  {
   "cell_type": "code",
   "execution_count": null,
   "id": "0882ea1c-fd15-4ff0-b76a-33e6aab18118",
   "metadata": {},
   "outputs": [],
   "source": [
    "shit = OscillatorBank()"
   ]
  },
  {
   "cell_type": "code",
   "execution_count": null,
   "id": "4ae19227-5215-4bb0-ba33-21acc2d628b2",
   "metadata": {},
   "outputs": [],
   "source": [
    "with torch.no_grad():\n",
    "    audio = shit.forward(\n",
    "        torch.ones(1, 1000, 1) * 220.,\n",
    "        torch.ones(1, 1000, 1) * -24.0,\n",
    "        torch.ones(1, 1000, 60) / (torch.arange(1, 61))\n",
    "    )"
   ]
  },
  {
   "cell_type": "code",
   "execution_count": null,
   "id": "c06ee3e9-61d9-40f1-9389-d900786a8780",
   "metadata": {},
   "outputs": [],
   "source": [
    "Audio(data=audio, rate=16000)"
   ]
  },
  {
   "cell_type": "code",
   "execution_count": null,
   "id": "e27565a1-4c15-4176-904c-18b3761f8c53",
   "metadata": {},
   "outputs": [],
   "source": []
  }
 ],
 "metadata": {
  "kernelspec": {
   "display_name": "Python 3 (ipykernel)",
   "language": "python",
   "name": "python3"
  },
  "language_info": {
   "codemirror_mode": {
    "name": "ipython",
    "version": 3
   },
   "file_extension": ".py",
   "mimetype": "text/x-python",
   "name": "python",
   "nbconvert_exporter": "python",
   "pygments_lexer": "ipython3",
   "version": "3.9.7"
  }
 },
 "nbformat": 4,
 "nbformat_minor": 5
}
