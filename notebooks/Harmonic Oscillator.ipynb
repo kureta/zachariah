{
 "cells": [
  {
   "cell_type": "code",
   "execution_count": null,
   "id": "769ec23d-8d6f-4fb5-bca0-2aa5c9d7cd19",
   "metadata": {},
   "outputs": [],
   "source": [
    "import sys\n",
    "from pathlib import Path\n",
    "\n",
    "try:\n",
    "    sys.path.index(str(Path.cwd().parent / 'src'))\n",
    "except ValueError:\n",
    "    sys.path.insert(0, str(Path.cwd().parent / 'src'))"
   ]
  },
  {
   "cell_type": "code",
   "execution_count": null,
   "id": "6f7371b1-80cc-45a1-b632-4584f755bef3",
   "metadata": {},
   "outputs": [],
   "source": [
    "%matplotlib inline\n",
    "import matplotlib.pyplot as plt\n",
    "plt.rcParams['figure.figsize'] = [20, 10]\n",
    "from IPython.display import Audio"
   ]
  },
  {
   "cell_type": "code",
   "execution_count": null,
   "id": "46d19021-615a-4ab6-a945-2b579254410f",
   "metadata": {},
   "outputs": [],
   "source": [
    "import torch\n",
    "import torch.nn.functional as F\n",
    "import numpy as np\n",
    "import librosa\n",
    "from librosa.display import specshow\n",
    "from librosa.filters import get_window"
   ]
  },
  {
   "cell_type": "code",
   "execution_count": null,
   "id": "96601739-7386-4579-a9f0-bacd6bde74d7",
   "metadata": {},
   "outputs": [],
   "source": [
    "from models.modules.harmonic_oscillator import OscillatorBank"
   ]
  },
  {
   "cell_type": "code",
   "execution_count": null,
   "id": "2c93a4cf-038c-4d41-b8ae-b968ae376028",
   "metadata": {},
   "outputs": [],
   "source": [
    "n_harmonics = 60\n",
    "sample_rate = 16000\n",
    "win_length = 2048\n",
    "hop_length = 256\n",
    "f0 = 110."
   ]
  },
  {
   "cell_type": "code",
   "execution_count": null,
   "id": "0882ea1c-fd15-4ff0-b76a-33e6aab18118",
   "metadata": {},
   "outputs": [],
   "source": [
    "shit = OscillatorBank(n_harmonics, sample_rate, hop_length)"
   ]
  },
  {
   "cell_type": "code",
   "execution_count": null,
   "id": "4ae19227-5215-4bb0-ba33-21acc2d628b2",
   "metadata": {},
   "outputs": [],
   "source": [
    "with torch.no_grad():\n",
    "    dist = torch.abs(torch.randn(1, 1, n_harmonics))\n",
    "    dist = torch.tile(dist, (1, 1000, 1))\n",
    "    dist = (dist - dist.min()) / (dist.max() - dist.min())\n",
    "    audio = shit.forward(\n",
    "        torch.ones(1, 1000, 1) * f0,\n",
    "        torch.ones(1, 1000, 1) * 0.8,\n",
    "        # torch.ones(1, 1000, n_harmonics) / (torch.arange(1, n_harmonics + 1))\n",
    "        dist\n",
    "    )"
   ]
  },
  {
   "cell_type": "code",
   "execution_count": null,
   "id": "c06ee3e9-61d9-40f1-9389-d900786a8780",
   "metadata": {},
   "outputs": [],
   "source": [
    "Audio(data=audio, rate=sample_rate, normalize=False)"
   ]
  },
  {
   "cell_type": "code",
   "execution_count": null,
   "id": "e27565a1-4c15-4176-904c-18b3761f8c53",
   "metadata": {},
   "outputs": [],
   "source": [
    "stft = np.abs(librosa.stft(audio[0].numpy(), win_length, hop_length))"
   ]
  },
  {
   "cell_type": "code",
   "execution_count": null,
   "id": "d7fa8590-cd9d-41e4-ad00-8d891438b7c6",
   "metadata": {},
   "outputs": [],
   "source": [
    "specshow(librosa.amplitude_to_db(stft), sr=sample_rate, hop_length=hop_length)\n",
    "plt.show()"
   ]
  },
  {
   "cell_type": "markdown",
   "id": "0787e1b4-1767-4e71-b069-061b40f59835",
   "metadata": {},
   "source": [
    "- frequency is in cycles per sample\n",
    "- nyquist of win_length divided by nyquist of sample_rate is the frequency conversion factor\n",
    "- f0 * this_factor is the frequency term in fbsp kernel\n",
    "- given crepe pitch, learn inharmonicity factor by maximizing real sound's total energy in this new transform"
   ]
  },
  {
   "cell_type": "code",
   "execution_count": null,
   "id": "b1c5b84c-019f-4d62-8f58-4ada23ef0cdb",
   "metadata": {},
   "outputs": [],
   "source": [
    "def dft_kernel(n, k):\n",
    "    return torch.exp(torch.tensor(-2j * np.pi * (k / win_length) * n, dtype=torch.complex64))"
   ]
  },
  {
   "cell_type": "code",
   "execution_count": null,
   "id": "dd9c8d5d-b71d-407d-8057-955696c21c93",
   "metadata": {},
   "outputs": [],
   "source": [
    "def selective_dft_kernel(n, k, f0=f0):\n",
    "    k += 1\n",
    "    return torch.exp(torch.tensor(-2j * np.pi * (f0 * k / sample_rate) * n, dtype=torch.complex64))"
   ]
  },
  {
   "cell_type": "code",
   "execution_count": null,
   "id": "a0ac820f-033f-4154-b36b-d7fe3495b9e2",
   "metadata": {},
   "outputs": [],
   "source": [
    "def fbsp_kernel(n, k, f0=f0, fb=1, m=1):\n",
    "    k += 1\n",
    "    return torch.sqrt(torch.tensor(fb, dtype=torch.float32)) * torch.tensor((fb * n / m) ** m, dtype=torch.float32) * torch.exp(torch.tensor(2j * np.pi * (f0 * k / sample_rate) * n, dtype=torch.complex64))"
   ]
  },
  {
   "cell_type": "code",
   "execution_count": null,
   "id": "e692bc91-955d-4ca9-a73b-0fdf73840ab1",
   "metadata": {},
   "outputs": [],
   "source": [
    "overtones = f0 * np.arange(1, n_harmonics + 1)\n",
    "overtones = overtones[overtones < sample_rate / 2]\n",
    "n_overtones = len(overtones)"
   ]
  },
  {
   "cell_type": "code",
   "execution_count": null,
   "id": "8f5b589b-1742-421d-8b30-380f6d16c487",
   "metadata": {},
   "outputs": [],
   "source": [
    "kernel = np.fromfunction(dft_kernel, (win_length, win_length))\n",
    "fkernel = np.fromfunction(fbsp_kernel, (win_length, n_overtones))\n",
    "skernel = np.fromfunction(selective_dft_kernel, (win_length, n_overtones))"
   ]
  },
  {
   "cell_type": "code",
   "execution_count": null,
   "id": "383427bb-fa9b-4ec0-8675-43e475098fcb",
   "metadata": {},
   "outputs": [],
   "source": [
    "tr = (0j + audio[:, win_length*8:win_length*9]) @ fkernel"
   ]
  },
  {
   "cell_type": "code",
   "execution_count": null,
   "id": "a5059790-37b8-46e9-9c54-73eca88f1f16",
   "metadata": {},
   "outputs": [],
   "source": [
    "bins = torch.abs(tr[0]) / torch.abs(tr[0]).max()\n",
    "diff = torch.abs(dist[0, 0] - bins)\n",
    "diff.mean(), diff.std(), bins.min(), bins.max(), dist.min(), dist.max()"
   ]
  },
  {
   "cell_type": "code",
   "execution_count": null,
   "id": "e77f0abc-0061-45af-8135-d3cb77c55bac",
   "metadata": {},
   "outputs": [],
   "source": [
    "plt.bar(np.arange(n_overtones), bins)\n",
    "plt.bar(np.arange(n_overtones), dist[0, 0])\n",
    "# fig, (ax1, ax2) = plt.subplots(1, 2)\n",
    "# ax1.bar(np.arange(n_overtones), bins)\n",
    "# ax2.bar(np.arange(n_overtones), dist[0, 0])"
   ]
  },
  {
   "cell_type": "code",
   "execution_count": null,
   "id": "9832701e-5766-49aa-b970-6b247bfecc79",
   "metadata": {},
   "outputs": [],
   "source": []
  }
 ],
 "metadata": {
  "kernelspec": {
   "display_name": "Python 3 (ipykernel)",
   "language": "python",
   "name": "python3"
  },
  "language_info": {
   "codemirror_mode": {
    "name": "ipython",
    "version": 3
   },
   "file_extension": ".py",
   "mimetype": "text/x-python",
   "name": "python",
   "nbconvert_exporter": "python",
   "pygments_lexer": "ipython3",
   "version": "3.9.9"
  }
 },
 "nbformat": 4,
 "nbformat_minor": 5
}
