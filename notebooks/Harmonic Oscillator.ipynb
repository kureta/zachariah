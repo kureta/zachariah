{
 "cells": [
  {
   "cell_type": "code",
   "execution_count": null,
   "id": "769ec23d-8d6f-4fb5-bca0-2aa5c9d7cd19",
   "metadata": {},
   "outputs": [],
   "source": [
    "import sys\n",
    "from pathlib import Path\n",
    "\n",
    "try:\n",
    "    sys.path.index(str(Path.cwd().parent / 'src'))\n",
    "except ValueError:\n",
    "    sys.path.insert(0, str(Path.cwd().parent / 'src'))"
   ]
  },
  {
   "cell_type": "code",
   "execution_count": null,
   "id": "6f7371b1-80cc-45a1-b632-4584f755bef3",
   "metadata": {},
   "outputs": [],
   "source": [
    "%matplotlib inline\n",
    "import matplotlib.pyplot as plt\n",
    "plt.rcParams['figure.figsize'] = [20, 10]\n",
    "from IPython.display import Audio"
   ]
  },
  {
   "cell_type": "code",
   "execution_count": null,
   "id": "46d19021-615a-4ab6-a945-2b579254410f",
   "metadata": {},
   "outputs": [],
   "source": [
    "import torch\n",
    "import torch.nn.functional as F\n",
    "import torch.nn as nn\n",
    "import numpy as np\n",
    "import librosa\n",
    "from librosa.display import specshow\n",
    "from librosa.filters import get_window\n",
    "import torchcrepe\n",
    "from einops import rearrange, parse_shape\n",
    "import opt_einsum as oe"
   ]
  },
  {
   "cell_type": "code",
   "execution_count": null,
   "id": "96601739-7386-4579-a9f0-bacd6bde74d7",
   "metadata": {},
   "outputs": [],
   "source": [
    "from models.modules.harmonic_oscillator import OscillatorBank\n",
    "from models.modules.loss import MorletTransform, STFT\n",
    "from models.modules.utils import pad_audio, get_frames, pad_audio_basic"
   ]
  },
  {
   "cell_type": "code",
   "execution_count": null,
   "id": "2c93a4cf-038c-4d41-b8ae-b968ae376028",
   "metadata": {},
   "outputs": [],
   "source": [
    "n_harmonics = 256\n",
    "sample_rate = 16000 * 3\n",
    "hop_length = 64 * 3\n",
    "win_length = 1024 * 3\n",
    "f0 = 110.\n",
    "dur = 1000\n",
    "batch_size = 4\n",
    "ch = 2"
   ]
  },
  {
   "cell_type": "code",
   "execution_count": null,
   "id": "0882ea1c-fd15-4ff0-b76a-33e6aab18118",
   "metadata": {},
   "outputs": [],
   "source": [
    "osc = OscillatorBank(n_harmonics, sample_rate, hop_length)"
   ]
  },
  {
   "cell_type": "code",
   "execution_count": null,
   "id": "c7143a07-00ae-4984-b4f7-e9ae6f790131",
   "metadata": {},
   "outputs": [],
   "source": [
    "# morlet_transform = MorletTransform(sample_rate, win_length, n_harmonics)\n",
    "stft_transform = STFT(sample_rate, win_length, n_harmonics)"
   ]
  },
  {
   "cell_type": "code",
   "execution_count": null,
   "id": "4ae19227-5215-4bb0-ba33-21acc2d628b2",
   "metadata": {},
   "outputs": [],
   "source": [
    "with torch.no_grad():\n",
    "    dist = torch.abs(torch.randn(1, 1, ch, n_harmonics))\n",
    "    dist = torch.tile(dist, (batch_size, dur, 1, 1))\n",
    "    \n",
    "    # dist = torch.zeros(1, dur, n_harmonics)\n",
    "    # dist[..., 0] = 1.0\n",
    "    \n",
    "    # dist = 61. - torch.arange(1, 61)\n",
    "    \n",
    "    # dist = torch.ones(1, dur, 60)\n",
    "    \n",
    "    dist /= dist.sum(-1, keepdim=True)\n",
    "\n",
    "    amp = 1.0\n",
    "    \n",
    "    freq = (torch.sin(torch.linspace(0, hop_length * dur / sample_rate, dur) * 3.14159265 * 0.5).unsqueeze(0).unsqueeze(-1) + 2) * f0 / 3\n",
    "    freq = torch.tile(freq, (batch_size, 1, ch))\n",
    "    freq[:, :, 1] += 3.\n",
    "    \n",
    "    # freq = torch.ones(1, dur, ch) * f0\n",
    "    audio = osc(\n",
    "        freq,\n",
    "        torch.ones(batch_size, dur, ch) * amp,\n",
    "        dist\n",
    "    )"
   ]
  },
  {
   "cell_type": "code",
   "execution_count": null,
   "id": "c06ee3e9-61d9-40f1-9389-d900786a8780",
   "metadata": {},
   "outputs": [],
   "source": [
    "Audio(data=audio[0].T, rate=sample_rate, normalize=False)"
   ]
  },
  {
   "cell_type": "markdown",
   "id": "0787e1b4-1767-4e71-b069-061b40f59835",
   "metadata": {},
   "source": [
    "- TODO: during synthesis (maybe also stft transform) as higher overtones go above nyquist and dissappear during an upward glissando, remaining harmonics are normalized among\n",
    "  themselves, so perceptually, the sound seems to get louder.\n",
    "- TODO: given crepe pitch, learn inharmonicity factor by maximizing real sound's total energy in this new transform\n",
    "- TODO: ampllitude doesn't seem right\n",
    "- TODO: noise component transform"
   ]
  },
  {
   "cell_type": "code",
   "execution_count": null,
   "id": "b3d6b2b6-70b0-441e-9bb0-11a9fdfbfee5",
   "metadata": {},
   "outputs": [],
   "source": [
    "padded_audio = pad_audio_basic(audio, win_length, hop_length)"
   ]
  },
  {
   "cell_type": "code",
   "execution_count": null,
   "id": "fa041244-8806-4a77-89cb-a6854c2ed752",
   "metadata": {},
   "outputs": [],
   "source": [
    "framed_audio = get_frames(padded_audio, win_length, hop_length)"
   ]
  },
  {
   "cell_type": "code",
   "execution_count": null,
   "id": "b0accf7d-f3a1-468d-99b6-6c27847e2bea",
   "metadata": {},
   "outputs": [],
   "source": [
    "new_dist, amp = stft_transform(framed_audio, freq)"
   ]
  },
  {
   "cell_type": "code",
   "execution_count": null,
   "id": "5f184cb2-7028-44aa-9454-84ea33b4e8c6",
   "metadata": {},
   "outputs": [],
   "source": [
    "fig, (ax1, ax2) = plt.subplots(1, 2)\n",
    "ax1.imshow(dist[0, :, 1, :].flip(1).T)\n",
    "ax2.imshow(new_dist[0, :, 1, :].flip(1).T)"
   ]
  },
  {
   "cell_type": "code",
   "execution_count": null,
   "id": "a857e7e8-9870-40b7-a25c-726ce60ff58c",
   "metadata": {},
   "outputs": [],
   "source": [
    "with torch.no_grad():\n",
    "    # freq = torch.ones(2, dur, 1) * f0\n",
    "    new_audio = osc(\n",
    "        freq,\n",
    "        amp * np.sqrt(2),\n",
    "        new_dist\n",
    "    )"
   ]
  },
  {
   "cell_type": "code",
   "execution_count": null,
   "id": "d3d18f57-a44b-41fc-913c-08597ecf4adf",
   "metadata": {},
   "outputs": [],
   "source": [
    "Audio(data=new_audio[0].T, rate=sample_rate, normalize=False)"
   ]
  },
  {
   "cell_type": "code",
   "execution_count": null,
   "id": "12811fcf-d183-4d0f-a8ef-4119353211f1",
   "metadata": {},
   "outputs": [],
   "source": [
    "path = '/home/kureta/Music/cello/Cello Samples/BrahmsSonata1-00002-.wav'"
   ]
  },
  {
   "cell_type": "code",
   "execution_count": null,
   "id": "5da6aea1-0faf-437b-ae2d-b188bded8d21",
   "metadata": {},
   "outputs": [],
   "source": [
    "timbre_violin = librosa.load(path, sr=16000, mono=False)[0][:, :16000*4].T\n",
    "violin = librosa.load(path, sr=sample_rate, mono=False)[0][:, :sample_rate*4].T"
   ]
  },
  {
   "cell_type": "code",
   "execution_count": null,
   "id": "4185e9b9-9f99-4ac9-a103-baeaf4dca189",
   "metadata": {},
   "outputs": [],
   "source": [
    "Audio(data=violin.T, rate=sample_rate, normalize=False)"
   ]
  },
  {
   "cell_type": "code",
   "execution_count": null,
   "id": "bf7ec461-2d2d-4336-b63e-88a323e5bf0c",
   "metadata": {},
   "outputs": [],
   "source": [
    "# add batch dimension\n",
    "padded_violin = pad_audio_basic(torch.from_numpy(violin).unsqueeze(0), win_length, hop_length)\n",
    "padded_timbre_violin = pad_audio_basic(torch.from_numpy(timbre_violin).unsqueeze(0), 1024, hop_length//3)"
   ]
  },
  {
   "cell_type": "code",
   "execution_count": null,
   "id": "97e7e3c9-c6e6-4df9-8ea3-66c0b3a9d047",
   "metadata": {},
   "outputs": [],
   "source": [
    "b, c = padded_timbre_violin.shape[0], padded_timbre_violin.shape[2]"
   ]
  },
  {
   "cell_type": "code",
   "execution_count": null,
   "id": "6cc56d30-2399-4e6c-a7bc-9e70a800f22f",
   "metadata": {},
   "outputs": [],
   "source": [
    "stacked_violin = rearrange(padded_timbre_violin, 'b t c -> (b c) t')\n",
    "freqs = torchcrepe.predict(stacked_violin, 16000, hop_length//3, decoder=torchcrepe.decode.weighted_argmax, pad=False, device='cuda')\n",
    "freqs = rearrange(freqs, '(b c) t -> b t c', b=b, c=c)"
   ]
  },
  {
   "cell_type": "code",
   "execution_count": null,
   "id": "c04c8b57-bfb3-4cd2-9905-f54fc1d82923",
   "metadata": {},
   "outputs": [],
   "source": [
    "violin_frames = get_frames(padded_violin, win_length, hop_length)"
   ]
  },
  {
   "cell_type": "code",
   "execution_count": null,
   "id": "eb2bd0b6-92b3-454f-8bce-3c7333be0204",
   "metadata": {},
   "outputs": [],
   "source": [
    "new_dist, amp = stft_transform(violin_frames, freqs)"
   ]
  },
  {
   "cell_type": "code",
   "execution_count": null,
   "id": "0599cf01-6606-4ec8-919a-31f5e07aa810",
   "metadata": {},
   "outputs": [],
   "source": [
    "plt.imshow(new_dist[0, :100, 0].flip(1).T)"
   ]
  },
  {
   "cell_type": "code",
   "execution_count": null,
   "id": "da415195-4122-41f8-8da4-bb17ddd81859",
   "metadata": {},
   "outputs": [],
   "source": [
    "plt.plot(amp[0, :, 0])\n",
    "plt.plot(amp[0, :, 1])"
   ]
  },
  {
   "cell_type": "code",
   "execution_count": null,
   "id": "77dcedcd-58ab-430d-93ca-e5ac02e8df12",
   "metadata": {},
   "outputs": [],
   "source": [
    "with torch.no_grad():\n",
    "    new_audio = osc(\n",
    "        freqs,\n",
    "        amp * np.sqrt(2),\n",
    "        new_dist\n",
    "    )"
   ]
  },
  {
   "cell_type": "code",
   "execution_count": null,
   "id": "1add3e32-22db-42dd-a6e6-046b97bac84b",
   "metadata": {},
   "outputs": [],
   "source": [
    "Audio(data=new_audio[0].T, rate=sample_rate, normalize=False)"
   ]
  },
  {
   "cell_type": "code",
   "execution_count": null,
   "id": "ae622ff3-47e1-42eb-92ad-e594790b3bee",
   "metadata": {},
   "outputs": [],
   "source": [
    "# noise bands center bin and bandwidth calculations\n",
    "for n in range(100):\n",
    "   #  print(80 * n, 80 * n + 40, 80 * n + 80)\n",
    "    pass"
   ]
  },
  {
   "cell_type": "code",
   "execution_count": null,
   "id": "f4c93c87-34cf-4d24-b0a2-48c3afab97a6",
   "metadata": {},
   "outputs": [],
   "source": []
  }
 ],
 "metadata": {
  "kernelspec": {
   "display_name": "Python 3 (ipykernel)",
   "language": "python",
   "name": "python3"
  },
  "language_info": {
   "codemirror_mode": {
    "name": "ipython",
    "version": 3
   },
   "file_extension": ".py",
   "mimetype": "text/x-python",
   "name": "python",
   "nbconvert_exporter": "python",
   "pygments_lexer": "ipython3",
   "version": "3.9.9"
  }
 },
 "nbformat": 4,
 "nbformat_minor": 5
}
