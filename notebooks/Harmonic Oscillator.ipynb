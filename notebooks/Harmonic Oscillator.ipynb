{
 "cells": [
  {
   "cell_type": "code",
   "execution_count": null,
   "id": "769ec23d-8d6f-4fb5-bca0-2aa5c9d7cd19",
   "metadata": {},
   "outputs": [],
   "source": [
    "import sys\n",
    "from pathlib import Path\n",
    "\n",
    "try:\n",
    "    sys.path.index(str(Path.cwd().parent / 'src'))\n",
    "except ValueError:\n",
    "    sys.path.insert(0, str(Path.cwd().parent / 'src'))"
   ]
  },
  {
   "cell_type": "code",
   "execution_count": null,
   "id": "6f7371b1-80cc-45a1-b632-4584f755bef3",
   "metadata": {},
   "outputs": [],
   "source": [
    "%matplotlib inline\n",
    "import matplotlib.pyplot as plt\n",
    "plt.rcParams['figure.figsize'] = [20, 10]\n",
    "from IPython.display import Audio"
   ]
  },
  {
   "cell_type": "code",
   "execution_count": null,
   "id": "46d19021-615a-4ab6-a945-2b579254410f",
   "metadata": {},
   "outputs": [],
   "source": [
    "import torch\n",
    "import torch.nn.functional as F\n",
    "import numpy as np\n",
    "import librosa\n",
    "from librosa.display import specshow\n",
    "from librosa.filters import get_window\n",
    "import torchcrepe"
   ]
  },
  {
   "cell_type": "code",
   "execution_count": null,
   "id": "96601739-7386-4579-a9f0-bacd6bde74d7",
   "metadata": {},
   "outputs": [],
   "source": [
    "from models.modules.harmonic_oscillator import OscillatorBank\n",
    "from models.modules.loss import MorletTransform\n",
    "from models.modules.utils import pad_audio, get_frames"
   ]
  },
  {
   "cell_type": "code",
   "execution_count": null,
   "id": "2c93a4cf-038c-4d41-b8ae-b968ae376028",
   "metadata": {},
   "outputs": [],
   "source": [
    "n_harmonics = 60\n",
    "sample_rate = 16000\n",
    "win_length = 1024\n",
    "hop_length = 64\n",
    "f0 = 440.\n",
    "dur = 500"
   ]
  },
  {
   "cell_type": "code",
   "execution_count": null,
   "id": "0882ea1c-fd15-4ff0-b76a-33e6aab18118",
   "metadata": {},
   "outputs": [],
   "source": [
    "osc = OscillatorBank(n_harmonics, sample_rate, hop_length)"
   ]
  },
  {
   "cell_type": "code",
   "execution_count": null,
   "id": "c7143a07-00ae-4984-b4f7-e9ae6f790131",
   "metadata": {},
   "outputs": [],
   "source": [
    "morlet_transform = MorletTransform(sample_rate, win_length, n_harmonics)"
   ]
  },
  {
   "cell_type": "code",
   "execution_count": null,
   "id": "4ae19227-5215-4bb0-ba33-21acc2d628b2",
   "metadata": {},
   "outputs": [],
   "source": [
    "with torch.no_grad():\n",
    "    dist = torch.abs(torch.randn(1, 1, n_harmonics))\n",
    "    dist = torch.tile(dist, (1, dur, 1))\n",
    "    \n",
    "    # dist = torch.zeros(1, dur, n_harmonics)\n",
    "    # dist[..., 0] = 1.0\n",
    "    \n",
    "    # dist = 61. - torch.arange(1, 61)\n",
    "    \n",
    "    # dist = torch.ones(1, dur, 60)\n",
    "    \n",
    "    dist /= dist.sum(-1, keepdim=True)\n",
    "    \n",
    "    amp = 1.0\n",
    "    \n",
    "    freq = (torch.sin(torch.linspace(0, hop_length * dur / sample_rate, dur) * 3.14159265 * 0.5).unsqueeze(0).unsqueeze(-1) + 2) * f0 / 3\n",
    "    \n",
    "    # freq = torch.ones(1, dur, 1) * f0\n",
    "    audio = osc(\n",
    "        freq,\n",
    "        torch.ones(1, dur, 1) * amp,\n",
    "        dist\n",
    "    )"
   ]
  },
  {
   "cell_type": "code",
   "execution_count": null,
   "id": "c06ee3e9-61d9-40f1-9389-d900786a8780",
   "metadata": {},
   "outputs": [],
   "source": [
    "Audio(data=audio[0].T, rate=sample_rate, normalize=False)"
   ]
  },
  {
   "cell_type": "code",
   "execution_count": null,
   "id": "e27565a1-4c15-4176-904c-18b3761f8c53",
   "metadata": {},
   "outputs": [],
   "source": [
    "stft = np.abs(librosa.stft(audio[0, ...].numpy(), win_length, hop_length))"
   ]
  },
  {
   "cell_type": "code",
   "execution_count": null,
   "id": "d7fa8590-cd9d-41e4-ad00-8d891438b7c6",
   "metadata": {},
   "outputs": [],
   "source": [
    "specshow(librosa.amplitude_to_db(stft), sr=sample_rate, hop_length=hop_length)\n",
    "plt.show()"
   ]
  },
  {
   "cell_type": "markdown",
   "id": "0787e1b4-1767-4e71-b069-061b40f59835",
   "metadata": {},
   "source": [
    "- frequency is in cycles per sample\n",
    "- nyquist of win_length divided by nyquist of sample_rate is the frequency conversion factor\n",
    "- f0 * this_factor is the frequency term in fbsp kernel\n",
    "- given crepe pitch, learn inharmonicity factor by maximizing real sound's total energy in this new transform"
   ]
  },
  {
   "cell_type": "code",
   "execution_count": null,
   "id": "b3d6b2b6-70b0-441e-9bb0-11a9fdfbfee5",
   "metadata": {},
   "outputs": [],
   "source": [
    "padded_audio = pad_audio(audio, win_length, hop_length)"
   ]
  },
  {
   "cell_type": "code",
   "execution_count": null,
   "id": "fa041244-8806-4a77-89cb-a6854c2ed752",
   "metadata": {},
   "outputs": [],
   "source": [
    "framed_audio = get_frames(padded_audio, win_length, hop_length)"
   ]
  },
  {
   "cell_type": "code",
   "execution_count": null,
   "id": "b0accf7d-f3a1-468d-99b6-6c27847e2bea",
   "metadata": {},
   "outputs": [],
   "source": [
    "new_dist, amp = morlet_transform(framed_audio, freq)"
   ]
  },
  {
   "cell_type": "code",
   "execution_count": null,
   "id": "5f184cb2-7028-44aa-9454-84ea33b4e8c6",
   "metadata": {},
   "outputs": [],
   "source": [
    "plt.imshow(new_dist[0].flip(1).T)"
   ]
  },
  {
   "cell_type": "code",
   "execution_count": null,
   "id": "a857e7e8-9870-40b7-a25c-726ce60ff58c",
   "metadata": {},
   "outputs": [],
   "source": [
    "with torch.no_grad():\n",
    "    # freq = torch.ones(2, dur, 1) * f0\n",
    "    new_audio = osc(\n",
    "        freq,\n",
    "        amp.unsqueeze(-1),\n",
    "        new_dist\n",
    "    ).unsqueeze(-1)"
   ]
  },
  {
   "cell_type": "code",
   "execution_count": null,
   "id": "d3d18f57-a44b-41fc-913c-08597ecf4adf",
   "metadata": {},
   "outputs": [],
   "source": [
    "Audio(data=new_audio[0].T, rate=sample_rate, normalize=False)"
   ]
  },
  {
   "cell_type": "code",
   "execution_count": null,
   "id": "12811fcf-d183-4d0f-a8ef-4119353211f1",
   "metadata": {},
   "outputs": [],
   "source": [
    "path = '/home/kureta/Music/violin/Violin Samples/yee_bach_passion#25.wav'"
   ]
  },
  {
   "cell_type": "code",
   "execution_count": null,
   "id": "5da6aea1-0faf-437b-ae2d-b188bded8d21",
   "metadata": {},
   "outputs": [],
   "source": [
    "violin = librosa.load(path, sr=sample_rate)[0][:sample_rate*4]"
   ]
  },
  {
   "cell_type": "code",
   "execution_count": null,
   "id": "4185e9b9-9f99-4ac9-a103-baeaf4dca189",
   "metadata": {},
   "outputs": [],
   "source": [
    "Audio(data=violin, rate=sample_rate, normalize=False)"
   ]
  },
  {
   "cell_type": "code",
   "execution_count": null,
   "id": "bf7ec461-2d2d-4336-b63e-88a323e5bf0c",
   "metadata": {},
   "outputs": [],
   "source": [
    "# add batch dimension\n",
    "padded_violin = pad_audio(torch.from_numpy(violin).unsqueeze(0), win_length, hop_length)"
   ]
  },
  {
   "cell_type": "code",
   "execution_count": null,
   "id": "6cc56d30-2399-4e6c-a7bc-9e70a800f22f",
   "metadata": {},
   "outputs": [],
   "source": [
    "freqs = torchcrepe.predict(padded_violin, sample_rate, hop_length, decoder=torchcrepe.decode.weighted_argmax, pad=False, device='cuda')"
   ]
  },
  {
   "cell_type": "code",
   "execution_count": null,
   "id": "c04c8b57-bfb3-4cd2-9905-f54fc1d82923",
   "metadata": {},
   "outputs": [],
   "source": [
    "violin_frames = get_frames(padded_violin, win_length, hop_length)\n",
    "# hann = torch.hann_window(win_length)\n",
    "# windowed_frames = torch.einsum('btn,n->btn', violin_frames, hann)"
   ]
  },
  {
   "cell_type": "code",
   "execution_count": null,
   "id": "eb2bd0b6-92b3-454f-8bce-3c7333be0204",
   "metadata": {},
   "outputs": [],
   "source": [
    "new_dist, amp = morlet_transform(violin_frames, freqs.unsqueeze(-1))"
   ]
  },
  {
   "cell_type": "code",
   "execution_count": null,
   "id": "0599cf01-6606-4ec8-919a-31f5e07aa810",
   "metadata": {},
   "outputs": [],
   "source": [
    "plt.imshow(librosa.amplitude_to_db(new_dist[0, :100].flip(1).T))"
   ]
  },
  {
   "cell_type": "code",
   "execution_count": null,
   "id": "da415195-4122-41f8-8da4-bb17ddd81859",
   "metadata": {},
   "outputs": [],
   "source": [
    "plt.plot(amp[0, :])"
   ]
  },
  {
   "cell_type": "code",
   "execution_count": null,
   "id": "77dcedcd-58ab-430d-93ca-e5ac02e8df12",
   "metadata": {},
   "outputs": [],
   "source": [
    "with torch.no_grad():\n",
    "    # freq = torch.ones(2, dur, 1) * f0\n",
    "    new_audio = osc(\n",
    "        freqs.unsqueeze(-1),\n",
    "        amp.unsqueeze(-1),\n",
    "        new_dist\n",
    "    ).unsqueeze(-1)"
   ]
  },
  {
   "cell_type": "code",
   "execution_count": null,
   "id": "32cb2777-debe-48a3-8e34-f31171161ffd",
   "metadata": {},
   "outputs": [],
   "source": [
    "Audio(data=new_audio[0].T, rate=sample_rate, normalize=False)"
   ]
  },
  {
   "cell_type": "code",
   "execution_count": null,
   "id": "20f2e103-2b48-4eaa-90e5-f2304580ca6a",
   "metadata": {},
   "outputs": [],
   "source": [
    "morlet_wavelet = morlet_transform.generate_morlet_matrix(torch.ones(1, 1, 1) * 440.)\n",
    "\n",
    "plt.plot(morlet_wavelet[0, 0, 0].real)\n",
    "plt.plot(morlet_wavelet[0, 0, 0].imag)"
   ]
  },
  {
   "cell_type": "code",
   "execution_count": null,
   "id": "ae622ff3-47e1-42eb-92ad-e594790b3bee",
   "metadata": {},
   "outputs": [],
   "source": [
    "# noise bands center bin and bandwidth calculations\n",
    "for n in range(100):\n",
    "   #  print(80 * n, 80 * n + 40, 80 * n + 80)\n",
    "    pass"
   ]
  },
  {
   "cell_type": "code",
   "execution_count": null,
   "id": "84b741f7-803d-4f31-b619-97b9d433ff76",
   "metadata": {},
   "outputs": [],
   "source": []
  }
 ],
 "metadata": {
  "kernelspec": {
   "display_name": "Python 3 (ipykernel)",
   "language": "python",
   "name": "python3"
  },
  "language_info": {
   "codemirror_mode": {
    "name": "ipython",
    "version": 3
   },
   "file_extension": ".py",
   "mimetype": "text/x-python",
   "name": "python",
   "nbconvert_exporter": "python",
   "pygments_lexer": "ipython3",
   "version": "3.9.9"
  }
 },
 "nbformat": 4,
 "nbformat_minor": 5
}
