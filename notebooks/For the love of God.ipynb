{
 "cells": [
  {
   "cell_type": "code",
   "execution_count": null,
   "id": "603f219c",
   "metadata": {},
   "outputs": [],
   "source": [
    "import matplotlib.pyplot as plt\n",
    "%matplotlib inline\n",
    "\n",
    "import torch\n",
    "import torch.nn as nn\n",
    "import torch.nn.functional as F\n",
    "\n",
    "import numpy as np\n",
    "\n",
    "import librosa\n",
    "from librosa.display import specshow, waveshow\n",
    "\n",
    "from IPython.display import Audio"
   ]
  },
  {
   "cell_type": "code",
   "execution_count": null,
   "id": "624f2ead",
   "metadata": {},
   "outputs": [],
   "source": [
    "from models.modules.dsp import HarmonicOscillator, FilteredNoise"
   ]
  },
  {
   "cell_type": "code",
   "execution_count": null,
   "id": "45a7bb58",
   "metadata": {},
   "outputs": [],
   "source": [
    "sample_rate = 16000\n",
    "window_length = 1024\n",
    "hop_length = 64\n",
    "n_harmonics = 64\n",
    "n_bands = 128\n",
    "n_channels = 2\n",
    "time_steps = 1000\n",
    "batch_size = 8"
   ]
  },
  {
   "cell_type": "code",
   "execution_count": null,
   "id": "f299aa30",
   "metadata": {},
   "outputs": [],
   "source": [
    "osc = HarmonicOscillator(sample_rate, hop_length, n_harmonics, n_channels)"
   ]
  },
  {
   "cell_type": "code",
   "execution_count": null,
   "id": "203b9466",
   "metadata": {},
   "outputs": [],
   "source": [
    "base_pitch_1 = torch.linspace(55, 440, time_steps)\n",
    "base_pitch_2 = torch.linspace(55.1, 441, time_steps)\n",
    "base_pitch = torch.concat([base_pitch_1[None, :, None], base_pitch_2[None, :, None]], -1)\n",
    "base_pitch = torch.tile(base_pitch, (batch_size, 1, 1))\n",
    "amplitude = torch.ones(batch_size, time_steps, n_channels)\n",
    "\n",
    "harmonic_distribution = []\n",
    "for _ in range(n_harmonics):\n",
    "    envelop_1 = torch.sin(torch.linspace(0, np.random.uniform() * 40, time_steps)) + 1\n",
    "    envelop_2 = torch.sin(torch.linspace(0, np.random.uniform() * 40, time_steps)) + 1\n",
    "    envelop = torch.concat([envelop_1[None, :, None, None], envelop_2[None, :, None, None]], 2)\n",
    "    harmonic_distribution.append(envelop)\n",
    "\n",
    "harmonic_distribution = torch.concat(harmonic_distribution, dim=-1)\n",
    "harmonic_distribution = torch.tile(harmonic_distribution, (batch_size, 1, 1, 1))"
   ]
  },
  {
   "cell_type": "code",
   "execution_count": null,
   "id": "914395d3",
   "metadata": {},
   "outputs": [],
   "source": [
    "with torch.no_grad():\n",
    "    y = osc(base_pitch, amplitude, harmonic_distribution)"
   ]
  },
  {
   "cell_type": "code",
   "execution_count": null,
   "id": "a1f913c2",
   "metadata": {},
   "outputs": [],
   "source": [
    "y_np = y[0].numpy().T"
   ]
  },
  {
   "cell_type": "code",
   "execution_count": null,
   "id": "805f90b6",
   "metadata": {},
   "outputs": [],
   "source": [
    "waveshow(y_np, sr=sample_rate)"
   ]
  },
  {
   "cell_type": "code",
   "execution_count": null,
   "id": "c064c34d",
   "metadata": {},
   "outputs": [],
   "source": [
    "Audio(y_np, rate=sample_rate)"
   ]
  },
  {
   "cell_type": "code",
   "execution_count": null,
   "id": "b8342346",
   "metadata": {},
   "outputs": [],
   "source": [
    "noise = FilteredNoise(sample_rate, window_length, hop_length, n_bands, n_channels)"
   ]
  },
  {
   "cell_type": "code",
   "execution_count": null,
   "id": "d3742f8f",
   "metadata": {},
   "outputs": [],
   "source": [
    "filter_bands = []\n",
    "for _ in range(n_bands):\n",
    "    envelop_1 = torch.sin(torch.linspace(0, np.random.uniform() * 40, time_steps)) + 1\n",
    "    envelop_2 = torch.sin(torch.linspace(0, np.random.uniform() * 40, time_steps)) + 1\n",
    "    envelop = torch.concat([envelop_1[None, :, None, None], envelop_2[None, :, None, None]], 2)\n",
    "    filter_bands.append(envelop)\n",
    "\n",
    "filter_bands = torch.concat(filter_bands, dim=-1)"
   ]
  },
  {
   "cell_type": "code",
   "execution_count": null,
   "id": "a7bfd346",
   "metadata": {},
   "outputs": [],
   "source": [
    "y = noise(filter_bands)"
   ]
  },
  {
   "cell_type": "code",
   "execution_count": null,
   "id": "471f1257",
   "metadata": {},
   "outputs": [],
   "source": [
    "y_np = y[0, :].numpy().T"
   ]
  },
  {
   "cell_type": "code",
   "execution_count": null,
   "id": "d4c71232",
   "metadata": {},
   "outputs": [],
   "source": [
    "waveshow(y_np, sr=sample_rate)"
   ]
  },
  {
   "cell_type": "code",
   "execution_count": null,
   "id": "8a1d5573",
   "metadata": {},
   "outputs": [],
   "source": [
    "Audio(y_np, rate=sample_rate)"
   ]
  },
  {
   "cell_type": "code",
   "execution_count": null,
   "id": "8eecfe75",
   "metadata": {},
   "outputs": [],
   "source": []
  }
 ],
 "metadata": {
  "kernelspec": {
   "display_name": "Python 3 (ipykernel)",
   "language": "python",
   "name": "python3"
  },
  "language_info": {
   "codemirror_mode": {
    "name": "ipython",
    "version": 3
   },
   "file_extension": ".py",
   "mimetype": "text/x-python",
   "name": "python",
   "nbconvert_exporter": "python",
   "pygments_lexer": "ipython3",
   "version": "3.9.10"
  }
 },
 "nbformat": 4,
 "nbformat_minor": 5
}
