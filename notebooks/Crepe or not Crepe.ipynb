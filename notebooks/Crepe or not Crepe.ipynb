{
 "cells": [
  {
   "cell_type": "code",
   "execution_count": null,
   "id": "f992ba48",
   "metadata": {},
   "outputs": [],
   "source": [
    "import matplotlib.pyplot as plt\n",
    "%matplotlib inline\n",
    "\n",
    "from IPython.display import Audio\n",
    "\n",
    "import torch\n",
    "import torch.nn as nn\n",
    "import torch.nn.functional as F\n",
    "\n",
    "from einops import rearrange, reduce, repeat\n",
    "\n",
    "import numpy as np\n",
    "\n",
    "import librosa"
   ]
  },
  {
   "cell_type": "code",
   "execution_count": null,
   "id": "574d3649",
   "metadata": {},
   "outputs": [],
   "source": [
    "from models.modules.loss import CrepeFeaturesAndCents\n",
    "from models.modules.utils import pad_audio, get_frames\n",
    "from models.modules.harmonic_oscillator import OscillatorBank"
   ]
  },
  {
   "cell_type": "code",
   "execution_count": null,
   "id": "d43d8db6",
   "metadata": {},
   "outputs": [],
   "source": [
    "audio, sr = librosa.load('/home/kureta/Music/cello/Cello Samples/ArpAm-00000-.wav', sr=16000, mono=True)"
   ]
  },
  {
   "cell_type": "code",
   "execution_count": null,
   "id": "86559fa3",
   "metadata": {},
   "outputs": [],
   "source": [
    "win_length = 1024\n",
    "hop_length = 512"
   ]
  },
  {
   "cell_type": "code",
   "execution_count": null,
   "id": "1d8490cc",
   "metadata": {},
   "outputs": [],
   "source": [
    "Audio(audio, rate=sr)"
   ]
  },
  {
   "cell_type": "code",
   "execution_count": null,
   "id": "9ba33535",
   "metadata": {},
   "outputs": [],
   "source": [
    "x = torch.from_numpy(audio)\n",
    "x = x.unsqueeze(0)"
   ]
  },
  {
   "cell_type": "code",
   "execution_count": null,
   "id": "9ab97a29",
   "metadata": {},
   "outputs": [],
   "source": [
    "padded_audio = pad_audio(x, win_length, hop_length, strict=False)"
   ]
  },
  {
   "cell_type": "code",
   "execution_count": null,
   "id": "2ba18fde",
   "metadata": {},
   "outputs": [],
   "source": [
    "frames = get_frames(padded_audio, win_length, hop_length)"
   ]
  },
  {
   "cell_type": "code",
   "execution_count": null,
   "id": "2d2349e8",
   "metadata": {},
   "outputs": [],
   "source": [
    "b, n, x = frames.shape\n",
    "frames = rearrange(frames, 'b n x -> (b n) x')"
   ]
  },
  {
   "cell_type": "code",
   "execution_count": null,
   "id": "69c44b77",
   "metadata": {},
   "outputs": [],
   "source": [
    "encoder = CrepeFeaturesAndCents()"
   ]
  },
  {
   "cell_type": "code",
   "execution_count": null,
   "id": "c36c17a5",
   "metadata": {},
   "outputs": [],
   "source": [
    "frames = frames.cuda()\n",
    "encoder = encoder.cuda()"
   ]
  },
  {
   "cell_type": "code",
   "execution_count": null,
   "id": "124ec96a",
   "metadata": {},
   "outputs": [],
   "source": [
    "cents, features = encoder(frames)"
   ]
  },
  {
   "cell_type": "code",
   "execution_count": null,
   "id": "bd01ff55",
   "metadata": {},
   "outputs": [],
   "source": [
    "cents.shape, features.shape"
   ]
  },
  {
   "cell_type": "code",
   "execution_count": null,
   "id": "821a9f20",
   "metadata": {},
   "outputs": [],
   "source": [
    "cents = rearrange(cents, '(b n) x -> b n x', b=b, n=n)\n",
    "features = rearrange(features, '(b n) ch w h -> b n (ch w h)', b=b, n=n)"
   ]
  },
  {
   "cell_type": "code",
   "execution_count": null,
   "id": "a0b70aaf",
   "metadata": {},
   "outputs": [],
   "source": [
    "cents.shape, features.shape"
   ]
  },
  {
   "cell_type": "code",
   "execution_count": null,
   "id": "a8698ce1",
   "metadata": {},
   "outputs": [],
   "source": [
    "osc = OscillatorBank(hop_length=hop_length).cuda()"
   ]
  },
  {
   "cell_type": "code",
   "execution_count": null,
   "id": "9097ef1a",
   "metadata": {},
   "outputs": [],
   "source": [
    "with torch.no_grad():\n",
    "    y = osc(\n",
    "        cents,\n",
    "        torch.ones_like(cents),\n",
    "        torch.ones(*cents.shape, osc.n_harmonics, device='cuda')\n",
    "    )"
   ]
  },
  {
   "cell_type": "code",
   "execution_count": null,
   "id": "58b08b2b",
   "metadata": {},
   "outputs": [],
   "source": [
    "y.shape\n",
    "yy = y[0, :, 0].cpu().numpy()"
   ]
  },
  {
   "cell_type": "code",
   "execution_count": null,
   "id": "43ef2147",
   "metadata": {},
   "outputs": [],
   "source": [
    "Audio(yy, rate=sr)"
   ]
  },
  {
   "cell_type": "code",
   "execution_count": null,
   "id": "5217d490",
   "metadata": {},
   "outputs": [],
   "source": []
  }
 ],
 "metadata": {
  "kernelspec": {
   "display_name": "Python 3 (ipykernel)",
   "language": "python",
   "name": "python3"
  },
  "language_info": {
   "codemirror_mode": {
    "name": "ipython",
    "version": 3
   },
   "file_extension": ".py",
   "mimetype": "text/x-python",
   "name": "python",
   "nbconvert_exporter": "python",
   "pygments_lexer": "ipython3",
   "version": "3.9.10"
  }
 },
 "nbformat": 4,
 "nbformat_minor": 5
}
